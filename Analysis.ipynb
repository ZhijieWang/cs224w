{
 "cells": [
  {
   "cell_type": "code",
   "execution_count": 3,
   "metadata": {},
   "outputs": [],
   "source": [
    "import networkx as nx\n",
    "import pandas as pd\n",
    "import numpy as np"
   ]
  },
  {
   "cell_type": "code",
   "execution_count": 15,
   "metadata": {},
   "outputs": [],
   "source": [
    "\n",
    "class GraphIterator():\n",
    "    def __init__(self, edgeList):\n",
    "        # Assume input is an DataFrame of EdgeList\n",
    "        # there is an column called `timestep` for each transaction\n",
    "        # to indicate which timestep did the transaction happen for iteration purpose\n",
    "        \n",
    "        self.edgeList = edgeList\n",
    "        self.times = sorted(edgeList.timestep)\n",
    "        self.graph = nx.Graph()\n",
    "        self.current = self.times.pop()\n",
    "        edges = self.edgeList[self.edgeList.timestep==self.current]\n",
    "        for i in edges.iterrows():\n",
    "            self.add_edge(i[1]) \n",
    "    def add_edge(self, i):\n",
    "        if i['src']!=i['dest']:\n",
    "            self.graph.add_edge(int(i['src']),int(i['dest']))\n",
    "    def next_step(self):\n",
    "        if len(self.times)>0:\n",
    "            self.current = self.times.pop()\n",
    "            edges = self.edgeList[self.edgeList.timestep==self.current]\n",
    "            for i in edges.iterrows():\n",
    "                self.add_edge(i[1]) \n",
    "    def all_steps(self):\n",
    "        while len(self.times)>0:\n",
    "            self.current = self.times.pop()\n",
    "            edges = self.edgeList[self.edgeList.timestep==self.current]\n",
    "            for i in edges.iterrows():\n",
    "                self.add_edge(i[1]) \n",
    "\n",
    "    "
   ]
  },
  {
   "cell_type": "code",
   "execution_count": 26,
   "metadata": {},
   "outputs": [
    {
     "data": {
      "text/html": [
       "<div>\n",
       "<style scoped>\n",
       "    .dataframe tbody tr th:only-of-type {\n",
       "        vertical-align: middle;\n",
       "    }\n",
       "\n",
       "    .dataframe tbody tr th {\n",
       "        vertical-align: top;\n",
       "    }\n",
       "\n",
       "    .dataframe thead th {\n",
       "        text-align: right;\n",
       "    }\n",
       "</style>\n",
       "<table border=\"1\" class=\"dataframe\">\n",
       "  <thead>\n",
       "    <tr style=\"text-align: right;\">\n",
       "      <th></th>\n",
       "      <th>asin_x</th>\n",
       "      <th>asin_y</th>\n",
       "      <th>timestep</th>\n",
       "      <th>remappedDest_x</th>\n",
       "      <th>remappedDest_y</th>\n",
       "    </tr>\n",
       "  </thead>\n",
       "  <tbody>\n",
       "    <tr>\n",
       "      <th>0</th>\n",
       "      <td>7806397051</td>\n",
       "      <td>7806397051</td>\n",
       "      <td>201405</td>\n",
       "      <td>44726</td>\n",
       "      <td>44726</td>\n",
       "    </tr>\n",
       "    <tr>\n",
       "      <th>1</th>\n",
       "      <td>7806397051</td>\n",
       "      <td>B002WLWX82</td>\n",
       "      <td>201405</td>\n",
       "      <td>44726</td>\n",
       "      <td>50131</td>\n",
       "    </tr>\n",
       "    <tr>\n",
       "      <th>2</th>\n",
       "      <td>B002WLWX82</td>\n",
       "      <td>7806397051</td>\n",
       "      <td>201405</td>\n",
       "      <td>50131</td>\n",
       "      <td>44726</td>\n",
       "    </tr>\n",
       "    <tr>\n",
       "      <th>3</th>\n",
       "      <td>B002WLWX82</td>\n",
       "      <td>B002WLWX82</td>\n",
       "      <td>201405</td>\n",
       "      <td>50131</td>\n",
       "      <td>50131</td>\n",
       "    </tr>\n",
       "    <tr>\n",
       "      <th>4</th>\n",
       "      <td>7806397051</td>\n",
       "      <td>7806397051</td>\n",
       "      <td>201416</td>\n",
       "      <td>44726</td>\n",
       "      <td>44726</td>\n",
       "    </tr>\n",
       "  </tbody>\n",
       "</table>\n",
       "</div>"
      ],
      "text/plain": [
       "       asin_x      asin_y  timestep  remappedDest_x  remappedDest_y\n",
       "0  7806397051  7806397051    201405           44726           44726\n",
       "1  7806397051  B002WLWX82    201405           44726           50131\n",
       "2  B002WLWX82  7806397051    201405           50131           44726\n",
       "3  B002WLWX82  B002WLWX82    201405           50131           50131\n",
       "4  7806397051  7806397051    201416           44726           44726"
      ]
     },
     "execution_count": 26,
     "metadata": {},
     "output_type": "execute_result"
    }
   ],
   "source": [
    "user = pd.read_csv(\"Amazon Review Data Edge List User to User.csv\", index_col=0 )\n",
    "user.rename(columns={\"remappedOrig_x\": \"src\", \"remappedOrig_y\": \"dest\"}, inplace=True)\n",
    "user.head()\n",
    "# user_iterator = GraphIterator(user)"
   ]
  },
  {
   "cell_type": "code",
   "execution_count": null,
   "metadata": {},
   "outputs": [],
   "source": []
  }
 ],
 "metadata": {
  "kernelspec": {
   "display_name": "Python 3",
   "language": "python",
   "name": "python3"
  },
  "language_info": {
   "codemirror_mode": {
    "name": "ipython",
    "version": 3
   },
   "file_extension": ".py",
   "mimetype": "text/x-python",
   "name": "python",
   "nbconvert_exporter": "python",
   "pygments_lexer": "ipython3",
   "version": "3.6.6"
  }
 },
 "nbformat": 4,
 "nbformat_minor": 2
}
