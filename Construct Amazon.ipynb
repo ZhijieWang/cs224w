{
 "cells": [
  {
   "cell_type": "code",
   "execution_count": 21,
   "metadata": {},
   "outputs": [],
   "source": [
    "import pandas as pd \n",
    "import gzip \n",
    "from camo import greedy\n",
    "from matplotlib import pyplot as plot\n",
    "from datetime import datetime"
   ]
  },
  {
   "cell_type": "code",
   "execution_count": 25,
   "metadata": {},
   "outputs": [],
   "source": [
    "def parse(path):\n",
    "    df = {} \n",
    "    i = 0\n",
    "    g = open(path,\"r\")\n",
    "    for l in g: \n",
    "        d = eval(l)\n",
    "        df[i] = [d[\"reviewerID\"], d[\"asin\"], datetime.strptime(d[\"reviewTime\"], \"%m %d, %Y\").isocalendar()[1], datetime.strptime(d[\"reviewTime\"], \"%m %d, %Y\").year] \n",
    "        i += 1 \n",
    "    return pd.DataFrame.from_dict(df, orient='index',) \n",
    "reviews = parse('reviews_Beauty_5.json')\n",
    "reviews.columns= [\"reviewerID\", \"asin\", \"week\", \"year\"]\n",
    "reviews.to_csv(\"Amazon Review Data Edge List.csv\")"
   ]
  },
  {
   "cell_type": "code",
   "execution_count": 29,
   "metadata": {},
   "outputs": [],
   "source": [
    "indexer = dict()\n",
    "counter =0\n",
    "for i in reviews.reviewerID.unique():\n",
    "    indexer[i] = counter\n",
    "    counter +=1\n",
    "\n",
    "counter *= 2\n",
    "for i in reviews.asin.unique():\n",
    "    indexer[i] = counter\n",
    "    counter+=1\n",
    "remapped_orig = []\n",
    "remapped_dest = []\n",
    "\n",
    "for row in reviews.iterrows():\n",
    "    row = row[1]\n",
    "    remapped_orig.append(indexer[row[0]])\n",
    "    remapped_dest.append(indexer[row[1]])\n",
    "remapped = pd.DataFrame.from_dict({\"remappedOrig\":remapped_orig, \"remappedDest\":remapped_dest})\n",
    "remapped = pd.concat([reviews, remapped],  axis=1)\n",
    "remapped.to_csv(\"Amazon Review Data Edge List.csv\")"
   ]
  },
  {
   "cell_type": "code",
   "execution_count": 50,
   "metadata": {},
   "outputs": [],
   "source": [
    "counts = reviews.groupby(['reviewerID',\"week\", \"year\"]).size().reset_index(name='counts')"
   ]
  },
  {
   "cell_type": "code",
   "execution_count": 51,
   "metadata": {},
   "outputs": [
    {
     "name": "stdout",
     "output_type": "stream",
     "text": [
      "1.77446230311\n",
      "1.59251052931\n"
     ]
    }
   ],
   "source": [
    "print(counts[\"counts\"].mean())\n",
    "print(counts[\"counts\"].std())"
   ]
  },
  {
   "cell_type": "code",
   "execution_count": null,
   "metadata": {},
   "outputs": [],
   "source": []
  }
 ],
 "metadata": {
  "kernelspec": {
   "display_name": "Python 3",
   "language": "python",
   "name": "python3"
  },
  "language_info": {
   "codemirror_mode": {
    "name": "ipython",
    "version": 3
   },
   "file_extension": ".py",
   "mimetype": "text/x-python",
   "name": "python",
   "nbconvert_exporter": "python",
   "pygments_lexer": "ipython3",
   "version": "3.6.6"
  }
 },
 "nbformat": 4,
 "nbformat_minor": 2
}
