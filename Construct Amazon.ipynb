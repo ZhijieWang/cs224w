{
 "cells": [
  {
   "cell_type": "code",
   "execution_count": 21,
   "metadata": {},
   "outputs": [],
   "source": [
    "import pandas as pd \n",
    "import gzip \n",
    "from camo import greedy\n",
    "from matplotlib import pyplot as plot\n",
    "from datetime import datetime"
   ]
  },
  {
   "cell_type": "code",
   "execution_count": 93,
   "metadata": {},
   "outputs": [],
   "source": [
    "def parse(path):\n",
    "    df = {} \n",
    "    i = 0\n",
    "    g = open(path,\"r\")\n",
    "    for l in g: \n",
    "        d = eval(l)\n",
    "        df[i] = [d[\"reviewerID\"], d[\"asin\"], datetime.strptime(d[\"reviewTime\"], \"%m %d, %Y\").isocalendar()[1]+datetime.strptime(d[\"reviewTime\"], \"%m %d, %Y\").year*100] \n",
    "        i += 1 \n",
    "    return pd.DataFrame.from_dict(df, orient='index',) \n",
    "reviews = parse('reviews_Beauty_5.json')\n",
    "reviews.columns= [\"reviewerID\", \"asin\", \"timestep\"]\n",
    "reviews.to_csv(\"Amazon Review Data Edge List.csv\")"
   ]
  },
  {
   "cell_type": "code",
   "execution_count": 94,
   "metadata": {},
   "outputs": [],
   "source": [
    "indexer = dict()\n",
    "counter =0\n",
    "for i in reviews.reviewerID.unique():\n",
    "    indexer[i] = counter\n",
    "    counter +=1\n",
    "\n",
    "counter *= 2\n",
    "for i in reviews.asin.unique():\n",
    "    indexer[i] = counter\n",
    "    counter+=1\n",
    "remapped_orig = []\n",
    "remapped_dest = []\n",
    "\n",
    "for row in reviews.iterrows():\n",
    "    row = row[1]\n",
    "    remapped_orig.append(indexer[row[0]])\n",
    "    remapped_dest.append(indexer[row[1]])\n",
    "remapped = pd.DataFrame.from_dict({\"remappedOrig\":remapped_orig, \"remappedDest\":remapped_dest})\n",
    "remapped = pd.concat([reviews, remapped],  axis=1)\n",
    "remapped.to_csv(\"Amazon Review Data Edge List.csv\")"
   ]
  },
  {
   "cell_type": "code",
   "execution_count": 95,
   "metadata": {},
   "outputs": [
    {
     "name": "stdout",
     "output_type": "stream",
     "text": [
      "1.77446230311\n",
      "1.59251052931\n"
     ]
    }
   ],
   "source": [
    "counts = reviews.groupby(['reviewerID',\"timestep\"]).size().reset_index(name='counts')\n",
    "print(counts[\"counts\"].mean())\n",
    "print(counts[\"counts\"].std())"
   ]
  },
  {
   "cell_type": "code",
   "execution_count": 96,
   "metadata": {},
   "outputs": [
    {
     "name": "stdout",
     "output_type": "stream",
     "text": [
      "1.34812520799\n",
      "1.49526096071\n"
     ]
    }
   ],
   "source": [
    "counts = reviews.groupby(['asin',\"timestep\"]).size().reset_index(name='counts')\n",
    "print(counts[\"counts\"].mean())\n",
    "print(counts[\"counts\"].std())"
   ]
  },
  {
   "cell_type": "code",
   "execution_count": 97,
   "metadata": {},
   "outputs": [
    {
     "data": {
      "text/html": [
       "<div>\n",
       "<style scoped>\n",
       "    .dataframe tbody tr th:only-of-type {\n",
       "        vertical-align: middle;\n",
       "    }\n",
       "\n",
       "    .dataframe tbody tr th {\n",
       "        vertical-align: top;\n",
       "    }\n",
       "\n",
       "    .dataframe thead th {\n",
       "        text-align: right;\n",
       "    }\n",
       "</style>\n",
       "<table border=\"1\" class=\"dataframe\">\n",
       "  <thead>\n",
       "    <tr style=\"text-align: right;\">\n",
       "      <th></th>\n",
       "      <th>reviewerID_x</th>\n",
       "      <th>reviewerID_y</th>\n",
       "      <th>asin</th>\n",
       "      <th>timestep</th>\n",
       "      <th>remappedOrig_x</th>\n",
       "      <th>remappedOrig_y</th>\n",
       "    </tr>\n",
       "  </thead>\n",
       "  <tbody>\n",
       "    <tr>\n",
       "      <th>0</th>\n",
       "      <td>A1YJEY40YUW4SE</td>\n",
       "      <td>A1YJEY40YUW4SE</td>\n",
       "      <td>7806397051</td>\n",
       "      <td>201405</td>\n",
       "      <td>0</td>\n",
       "      <td>0</td>\n",
       "    </tr>\n",
       "    <tr>\n",
       "      <th>1</th>\n",
       "      <td>A60XNB876KYML</td>\n",
       "      <td>A60XNB876KYML</td>\n",
       "      <td>7806397051</td>\n",
       "      <td>201416</td>\n",
       "      <td>1</td>\n",
       "      <td>1</td>\n",
       "    </tr>\n",
       "    <tr>\n",
       "      <th>2</th>\n",
       "      <td>A3G6XNM240RMWA</td>\n",
       "      <td>A3G6XNM240RMWA</td>\n",
       "      <td>7806397051</td>\n",
       "      <td>201336</td>\n",
       "      <td>2</td>\n",
       "      <td>2</td>\n",
       "    </tr>\n",
       "    <tr>\n",
       "      <th>3</th>\n",
       "      <td>A3G6XNM240RMWA</td>\n",
       "      <td>AWUO9P6PL1SY8</td>\n",
       "      <td>7806397051</td>\n",
       "      <td>201336</td>\n",
       "      <td>2</td>\n",
       "      <td>7</td>\n",
       "    </tr>\n",
       "    <tr>\n",
       "      <th>4</th>\n",
       "      <td>AWUO9P6PL1SY8</td>\n",
       "      <td>A3G6XNM240RMWA</td>\n",
       "      <td>7806397051</td>\n",
       "      <td>201336</td>\n",
       "      <td>7</td>\n",
       "      <td>2</td>\n",
       "    </tr>\n",
       "  </tbody>\n",
       "</table>\n",
       "</div>"
      ],
      "text/plain": [
       "     reviewerID_x    reviewerID_y        asin  timestep  remappedOrig_x  \\\n",
       "0  A1YJEY40YUW4SE  A1YJEY40YUW4SE  7806397051    201405               0   \n",
       "1   A60XNB876KYML   A60XNB876KYML  7806397051    201416               1   \n",
       "2  A3G6XNM240RMWA  A3G6XNM240RMWA  7806397051    201336               2   \n",
       "3  A3G6XNM240RMWA   AWUO9P6PL1SY8  7806397051    201336               2   \n",
       "4   AWUO9P6PL1SY8  A3G6XNM240RMWA  7806397051    201336               7   \n",
       "\n",
       "   remappedOrig_y  \n",
       "0               0  \n",
       "1               1  \n",
       "2               2  \n",
       "3               7  \n",
       "4               2  "
      ]
     },
     "execution_count": 97,
     "metadata": {},
     "output_type": "execute_result"
    }
   ],
   "source": [
    "# product to product \n",
    "product_to_product = pd.merge(remapped, remapped, left_on=['asin', 'timestep'], right_on=['asin', 'timestep'],)[[\"reviewerID_x\", \"reviewerID_y\",\"asin\", \"timestep\", \"remappedOrig_x\", \"remappedOrig_y\"]]\n",
    "product_to_product.to_csv(\"Amazon Review Data Edge List Product to Product.csv\")\n",
    "product_to_product.head()"
   ]
  },
  {
   "cell_type": "code",
   "execution_count": 98,
   "metadata": {},
   "outputs": [
    {
     "data": {
      "text/html": [
       "<div>\n",
       "<style scoped>\n",
       "    .dataframe tbody tr th:only-of-type {\n",
       "        vertical-align: middle;\n",
       "    }\n",
       "\n",
       "    .dataframe tbody tr th {\n",
       "        vertical-align: top;\n",
       "    }\n",
       "\n",
       "    .dataframe thead th {\n",
       "        text-align: right;\n",
       "    }\n",
       "</style>\n",
       "<table border=\"1\" class=\"dataframe\">\n",
       "  <thead>\n",
       "    <tr style=\"text-align: right;\">\n",
       "      <th></th>\n",
       "      <th>asin_x</th>\n",
       "      <th>asin_y</th>\n",
       "      <th>timestep</th>\n",
       "      <th>remappedDest_x</th>\n",
       "      <th>remappedDest_y</th>\n",
       "    </tr>\n",
       "  </thead>\n",
       "  <tbody>\n",
       "    <tr>\n",
       "      <th>0</th>\n",
       "      <td>7806397051</td>\n",
       "      <td>7806397051</td>\n",
       "      <td>201405</td>\n",
       "      <td>44726</td>\n",
       "      <td>44726</td>\n",
       "    </tr>\n",
       "    <tr>\n",
       "      <th>1</th>\n",
       "      <td>7806397051</td>\n",
       "      <td>B002WLWX82</td>\n",
       "      <td>201405</td>\n",
       "      <td>44726</td>\n",
       "      <td>50131</td>\n",
       "    </tr>\n",
       "    <tr>\n",
       "      <th>2</th>\n",
       "      <td>B002WLWX82</td>\n",
       "      <td>7806397051</td>\n",
       "      <td>201405</td>\n",
       "      <td>50131</td>\n",
       "      <td>44726</td>\n",
       "    </tr>\n",
       "    <tr>\n",
       "      <th>3</th>\n",
       "      <td>B002WLWX82</td>\n",
       "      <td>B002WLWX82</td>\n",
       "      <td>201405</td>\n",
       "      <td>50131</td>\n",
       "      <td>50131</td>\n",
       "    </tr>\n",
       "    <tr>\n",
       "      <th>4</th>\n",
       "      <td>7806397051</td>\n",
       "      <td>7806397051</td>\n",
       "      <td>201416</td>\n",
       "      <td>44726</td>\n",
       "      <td>44726</td>\n",
       "    </tr>\n",
       "  </tbody>\n",
       "</table>\n",
       "</div>"
      ],
      "text/plain": [
       "       asin_x      asin_y  timestep  remappedDest_x  remappedDest_y\n",
       "0  7806397051  7806397051    201405           44726           44726\n",
       "1  7806397051  B002WLWX82    201405           44726           50131\n",
       "2  B002WLWX82  7806397051    201405           50131           44726\n",
       "3  B002WLWX82  B002WLWX82    201405           50131           50131\n",
       "4  7806397051  7806397051    201416           44726           44726"
      ]
     },
     "execution_count": 98,
     "metadata": {},
     "output_type": "execute_result"
    }
   ],
   "source": [
    "user_to_user = pd.merge(remapped, remapped, left_on=['reviewerID', 'timestep'], right_on=['reviewerID', 'timestep'])[[\"asin_x\", \"asin_y\", \"timestep\", \"remappedDest_x\", \"remappedDest_y\"]]\n",
    "user_to_user.to_csv(\"Amazon Review Data Edge List User to User.csv\")\n",
    "user_to_user.head()"
   ]
  },
  {
   "cell_type": "code",
   "execution_count": null,
   "metadata": {},
   "outputs": [],
   "source": []
  }
 ],
 "metadata": {
  "kernelspec": {
   "display_name": "Python 3",
   "language": "python",
   "name": "python3"
  },
  "language_info": {
   "codemirror_mode": {
    "name": "ipython",
    "version": 3
   },
   "file_extension": ".py",
   "mimetype": "text/x-python",
   "name": "python",
   "nbconvert_exporter": "python",
   "pygments_lexer": "ipython3",
   "version": "3.6.6"
  }
 },
 "nbformat": 4,
 "nbformat_minor": 2
}
